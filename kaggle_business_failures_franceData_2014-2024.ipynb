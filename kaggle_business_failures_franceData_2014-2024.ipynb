{
 "cells": [
  {
   "cell_type": "code",
   "execution_count": 120,
   "id": "71123082-6431-4e9e-b1eb-78f49a6cd8ac",
   "metadata": {},
   "outputs": [],
   "source": [
    "import pandas as pd\n",
    "import numpy as np\n",
    "import matplotlib.pyplot as plt\n",
    "import seaborn as sns\n",
    "import warnings"
   ]
  },
  {
   "cell_type": "code",
   "execution_count": 121,
   "id": "b7a687c9-92a8-4793-b9e8-e460354e888c",
   "metadata": {},
   "outputs": [],
   "source": [
    "df = pd.read_csv(\"/Users/sandeepsrinivasdwaram/Documents/business_failures/business_failures_franceData_2014-2024.csv\")"
   ]
  },
  {
   "cell_type": "code",
   "execution_count": 122,
   "id": "76820a7d-9717-4535-8772-239bf97a3671",
   "metadata": {},
   "outputs": [
    {
     "data": {
      "text/plain": [
       "Index(['YearQuarterId', 'YearGroupId', 'Year', 'Quarter', 'FailureUnit',\n",
       "       'Zone', 'ZoneCategory', 'Location', 'Capital', 'Region', 'Direction',\n",
       "       'LocationCategory', 'CalandarYear'],\n",
       "      dtype='object')"
      ]
     },
     "execution_count": 122,
     "metadata": {},
     "output_type": "execute_result"
    }
   ],
   "source": [
    "df.columns"
   ]
  },
  {
   "cell_type": "code",
   "execution_count": 124,
   "id": "735038cd-4b6e-4478-a420-f6bacf459fe5",
   "metadata": {},
   "outputs": [],
   "source": [
    "df[\"Year\"] = pd.to_datetime(df[\"Year\"])"
   ]
  },
  {
   "cell_type": "code",
   "execution_count": 126,
   "id": "2fad9f39-ba73-40c1-a7a3-cb21ec3e4c87",
   "metadata": {},
   "outputs": [],
   "source": [
    "df['CalandarYear'] = df['Year'].dt.year\n"
   ]
  },
  {
   "cell_type": "code",
   "execution_count": 127,
   "id": "01d0d048-a311-40d8-afbb-aba2af3f46ef",
   "metadata": {},
   "outputs": [],
   "source": [
    "quarter_to_month = {\n",
    "    'Q1': 1,  # January\n",
    "    'Q2': 4,  # April\n",
    "    'Q3': 7,  # July\n",
    "    'Q4': 10  # October\n",
    "}\n",
    "df['Year'] = df.apply(\n",
    "    lambda row: row['Year'].replace(month=quarter_to_month[row['Quarter']]), axis=1\n",
    ")"
   ]
  },
  {
   "cell_type": "code",
   "execution_count": 129,
   "id": "3ab4b66f-4a44-4387-ab0b-f8a096e17fcd",
   "metadata": {},
   "outputs": [],
   "source": [
    "df.to_csv('business_failures_franceData_2014-2024.csv', index=False)"
   ]
  },
  {
   "cell_type": "code",
   "execution_count": 130,
   "id": "991070ce-6448-4fcc-b40c-8a0af230960f",
   "metadata": {},
   "outputs": [
    {
     "data": {
      "text/plain": [
       "Index(['YearQuarterId', 'YearGroupId', 'Year', 'Quarter', 'FailureUnit',\n",
       "       'Zone', 'ZoneCategory', 'Location', 'Capital', 'Region', 'Direction',\n",
       "       'LocationCategory', 'CalandarYear'],\n",
       "      dtype='object')"
      ]
     },
     "execution_count": 130,
     "metadata": {},
     "output_type": "execute_result"
    }
   ],
   "source": [
    "df.columns"
   ]
  },
  {
   "cell_type": "markdown",
   "id": "f04d917e-6a22-460b-be44-77c1c1614b27",
   "metadata": {},
   "source": [
    "Data Understanding and Summary Stats"
   ]
  },
  {
   "cell_type": "markdown",
   "id": "c8b70ca1-73a7-44c4-8e50-856a9e5671bf",
   "metadata": {},
   "source": [
    "Summary Stats:"
   ]
  },
  {
   "cell_type": "code",
   "execution_count": 133,
   "id": "6a2303e8-d46b-43ba-bd74-ba8b5b96d677",
   "metadata": {},
   "outputs": [
    {
     "data": {
      "text/plain": [
       "(5060, 13)"
      ]
     },
     "execution_count": 133,
     "metadata": {},
     "output_type": "execute_result"
    }
   ],
   "source": [
    "df.shape"
   ]
  },
  {
   "cell_type": "code",
   "execution_count": 134,
   "id": "4f09c22b-fb75-4625-9bab-c7b52a28767d",
   "metadata": {},
   "outputs": [
    {
     "data": {
      "text/plain": [
       "Index(['YearQuarterId', 'YearGroupId', 'Year', 'Quarter', 'FailureUnit',\n",
       "       'Zone', 'ZoneCategory', 'Location', 'Capital', 'Region', 'Direction',\n",
       "       'LocationCategory', 'CalandarYear'],\n",
       "      dtype='object')"
      ]
     },
     "execution_count": 134,
     "metadata": {},
     "output_type": "execute_result"
    }
   ],
   "source": [
    "df.columns"
   ]
  },
  {
   "cell_type": "code",
   "execution_count": 136,
   "id": "cc3104b1-80c6-4705-82df-90f84698c6ba",
   "metadata": {},
   "outputs": [
    {
     "data": {
      "text/plain": [
       "YearQuarterId               object\n",
       "YearGroupId                 object\n",
       "Year                datetime64[ns]\n",
       "Quarter                     object\n",
       "FailureUnit                  int64\n",
       "Zone                         int64\n",
       "ZoneCategory                object\n",
       "Location                    object\n",
       "Capital                     object\n",
       "Region                      object\n",
       "Direction                   object\n",
       "LocationCategory            object\n",
       "CalandarYear                 int32\n",
       "dtype: object"
      ]
     },
     "execution_count": 136,
     "metadata": {},
     "output_type": "execute_result"
    }
   ],
   "source": [
    "df.dtypes"
   ]
  },
  {
   "cell_type": "code",
   "execution_count": 137,
   "id": "9d8867c5-0fb9-4e41-bdd0-665a41494e29",
   "metadata": {},
   "outputs": [
    {
     "name": "stdout",
     "output_type": "stream",
     "text": [
      "<class 'pandas.core.frame.DataFrame'>\n",
      "RangeIndex: 5060 entries, 0 to 5059\n",
      "Data columns (total 13 columns):\n",
      " #   Column            Non-Null Count  Dtype         \n",
      "---  ------            --------------  -----         \n",
      " 0   YearQuarterId     5060 non-null   object        \n",
      " 1   YearGroupId       5060 non-null   object        \n",
      " 2   Year              5060 non-null   datetime64[ns]\n",
      " 3   Quarter           5060 non-null   object        \n",
      " 4   FailureUnit       5060 non-null   int64         \n",
      " 5   Zone              5060 non-null   int64         \n",
      " 6   ZoneCategory      5060 non-null   object        \n",
      " 7   Location          5060 non-null   object        \n",
      " 8   Capital           5060 non-null   object        \n",
      " 9   Region            5060 non-null   object        \n",
      " 10  Direction         5060 non-null   object        \n",
      " 11  LocationCategory  5060 non-null   object        \n",
      " 12  CalandarYear      5060 non-null   int32         \n",
      "dtypes: datetime64[ns](1), int32(1), int64(2), object(9)\n",
      "memory usage: 494.3+ KB\n"
     ]
    }
   ],
   "source": [
    "df.info()"
   ]
  },
  {
   "cell_type": "code",
   "execution_count": 138,
   "id": "e22394fb-1842-4b9a-80b6-f16e7fa16f6b",
   "metadata": {},
   "outputs": [
    {
     "data": {
      "text/html": [
       "<div>\n",
       "<style scoped>\n",
       "    .dataframe tbody tr th:only-of-type {\n",
       "        vertical-align: middle;\n",
       "    }\n",
       "\n",
       "    .dataframe tbody tr th {\n",
       "        vertical-align: top;\n",
       "    }\n",
       "\n",
       "    .dataframe thead th {\n",
       "        text-align: right;\n",
       "    }\n",
       "</style>\n",
       "<table border=\"1\" class=\"dataframe\">\n",
       "  <thead>\n",
       "    <tr style=\"text-align: right;\">\n",
       "      <th></th>\n",
       "      <th>Year</th>\n",
       "      <th>FailureUnit</th>\n",
       "      <th>Zone</th>\n",
       "      <th>CalandarYear</th>\n",
       "    </tr>\n",
       "  </thead>\n",
       "  <tbody>\n",
       "    <tr>\n",
       "      <th>count</th>\n",
       "      <td>5060</td>\n",
       "      <td>5060.000000</td>\n",
       "      <td>5060.000000</td>\n",
       "      <td>5060.000000</td>\n",
       "    </tr>\n",
       "    <tr>\n",
       "      <th>mean</th>\n",
       "      <td>2019-05-16 13:46:09.011857920</td>\n",
       "      <td>323.962451</td>\n",
       "      <td>2.484783</td>\n",
       "      <td>2018.998024</td>\n",
       "    </tr>\n",
       "    <tr>\n",
       "      <th>min</th>\n",
       "      <td>2014-01-01 00:00:00</td>\n",
       "      <td>0.000000</td>\n",
       "      <td>1.000000</td>\n",
       "      <td>2014.000000</td>\n",
       "    </tr>\n",
       "    <tr>\n",
       "      <th>25%</th>\n",
       "      <td>2016-07-01 00:00:00</td>\n",
       "      <td>45.000000</td>\n",
       "      <td>1.000000</td>\n",
       "      <td>2016.000000</td>\n",
       "    </tr>\n",
       "    <tr>\n",
       "      <th>50%</th>\n",
       "      <td>2019-04-01 00:00:00</td>\n",
       "      <td>97.000000</td>\n",
       "      <td>2.000000</td>\n",
       "      <td>2019.000000</td>\n",
       "    </tr>\n",
       "    <tr>\n",
       "      <th>75%</th>\n",
       "      <td>2022-01-01 00:00:00</td>\n",
       "      <td>221.000000</td>\n",
       "      <td>3.000000</td>\n",
       "      <td>2022.000000</td>\n",
       "    </tr>\n",
       "    <tr>\n",
       "      <th>max</th>\n",
       "      <td>2024-10-01 00:00:00</td>\n",
       "      <td>18612.000000</td>\n",
       "      <td>4.000000</td>\n",
       "      <td>2024.000000</td>\n",
       "    </tr>\n",
       "    <tr>\n",
       "      <th>std</th>\n",
       "      <td>NaN</td>\n",
       "      <td>1248.369443</td>\n",
       "      <td>1.120160</td>\n",
       "      <td>3.162590</td>\n",
       "    </tr>\n",
       "  </tbody>\n",
       "</table>\n",
       "</div>"
      ],
      "text/plain": [
       "                                Year   FailureUnit         Zone  CalandarYear\n",
       "count                           5060   5060.000000  5060.000000   5060.000000\n",
       "mean   2019-05-16 13:46:09.011857920    323.962451     2.484783   2018.998024\n",
       "min              2014-01-01 00:00:00      0.000000     1.000000   2014.000000\n",
       "25%              2016-07-01 00:00:00     45.000000     1.000000   2016.000000\n",
       "50%              2019-04-01 00:00:00     97.000000     2.000000   2019.000000\n",
       "75%              2022-01-01 00:00:00    221.000000     3.000000   2022.000000\n",
       "max              2024-10-01 00:00:00  18612.000000     4.000000   2024.000000\n",
       "std                              NaN   1248.369443     1.120160      3.162590"
      ]
     },
     "execution_count": 138,
     "metadata": {},
     "output_type": "execute_result"
    }
   ],
   "source": [
    "df.describe()"
   ]
  },
  {
   "cell_type": "code",
   "execution_count": 140,
   "id": "14ba8cc4-e36e-4b77-8bd0-554e0f4ff8f2",
   "metadata": {},
   "outputs": [
    {
     "data": {
      "text/html": [
       "<div>\n",
       "<style scoped>\n",
       "    .dataframe tbody tr th:only-of-type {\n",
       "        vertical-align: middle;\n",
       "    }\n",
       "\n",
       "    .dataframe tbody tr th {\n",
       "        vertical-align: top;\n",
       "    }\n",
       "\n",
       "    .dataframe thead th {\n",
       "        text-align: right;\n",
       "    }\n",
       "</style>\n",
       "<table border=\"1\" class=\"dataframe\">\n",
       "  <thead>\n",
       "    <tr style=\"text-align: right;\">\n",
       "      <th></th>\n",
       "      <th>YearQuarterId</th>\n",
       "      <th>YearGroupId</th>\n",
       "      <th>Year</th>\n",
       "      <th>Quarter</th>\n",
       "      <th>FailureUnit</th>\n",
       "      <th>Zone</th>\n",
       "      <th>ZoneCategory</th>\n",
       "      <th>Location</th>\n",
       "      <th>Capital</th>\n",
       "      <th>Region</th>\n",
       "      <th>Direction</th>\n",
       "      <th>LocationCategory</th>\n",
       "      <th>CalandarYear</th>\n",
       "    </tr>\n",
       "  </thead>\n",
       "  <tbody>\n",
       "    <tr>\n",
       "      <th>count</th>\n",
       "      <td>5060</td>\n",
       "      <td>5060</td>\n",
       "      <td>5060</td>\n",
       "      <td>5060</td>\n",
       "      <td>5060.000000</td>\n",
       "      <td>5060.000000</td>\n",
       "      <td>5060</td>\n",
       "      <td>5060</td>\n",
       "      <td>5060</td>\n",
       "      <td>5060</td>\n",
       "      <td>5060</td>\n",
       "      <td>5060</td>\n",
       "      <td>5060.000000</td>\n",
       "    </tr>\n",
       "    <tr>\n",
       "      <th>unique</th>\n",
       "      <td>44</td>\n",
       "      <td>11</td>\n",
       "      <td>NaN</td>\n",
       "      <td>4</td>\n",
       "      <td>NaN</td>\n",
       "      <td>NaN</td>\n",
       "      <td>4</td>\n",
       "      <td>115</td>\n",
       "      <td>108</td>\n",
       "      <td>15</td>\n",
       "      <td>11</td>\n",
       "      <td>5</td>\n",
       "      <td>NaN</td>\n",
       "    </tr>\n",
       "    <tr>\n",
       "      <th>top</th>\n",
       "      <td>2014-Q4</td>\n",
       "      <td>G2014</td>\n",
       "      <td>NaN</td>\n",
       "      <td>Q4</td>\n",
       "      <td>NaN</td>\n",
       "      <td>NaN</td>\n",
       "      <td>Low</td>\n",
       "      <td>Ariège</td>\n",
       "      <td>Paris</td>\n",
       "      <td>Occitanie</td>\n",
       "      <td>SouthEast</td>\n",
       "      <td>D</td>\n",
       "      <td>NaN</td>\n",
       "    </tr>\n",
       "    <tr>\n",
       "      <th>freq</th>\n",
       "      <td>115</td>\n",
       "      <td>460</td>\n",
       "      <td>NaN</td>\n",
       "      <td>1265</td>\n",
       "      <td>NaN</td>\n",
       "      <td>NaN</td>\n",
       "      <td>1291</td>\n",
       "      <td>44</td>\n",
       "      <td>132</td>\n",
       "      <td>616</td>\n",
       "      <td>836</td>\n",
       "      <td>4180</td>\n",
       "      <td>NaN</td>\n",
       "    </tr>\n",
       "    <tr>\n",
       "      <th>mean</th>\n",
       "      <td>NaN</td>\n",
       "      <td>NaN</td>\n",
       "      <td>2019-05-16 13:46:09.011857920</td>\n",
       "      <td>NaN</td>\n",
       "      <td>323.962451</td>\n",
       "      <td>2.484783</td>\n",
       "      <td>NaN</td>\n",
       "      <td>NaN</td>\n",
       "      <td>NaN</td>\n",
       "      <td>NaN</td>\n",
       "      <td>NaN</td>\n",
       "      <td>NaN</td>\n",
       "      <td>2018.998024</td>\n",
       "    </tr>\n",
       "    <tr>\n",
       "      <th>min</th>\n",
       "      <td>NaN</td>\n",
       "      <td>NaN</td>\n",
       "      <td>2014-01-01 00:00:00</td>\n",
       "      <td>NaN</td>\n",
       "      <td>0.000000</td>\n",
       "      <td>1.000000</td>\n",
       "      <td>NaN</td>\n",
       "      <td>NaN</td>\n",
       "      <td>NaN</td>\n",
       "      <td>NaN</td>\n",
       "      <td>NaN</td>\n",
       "      <td>NaN</td>\n",
       "      <td>2014.000000</td>\n",
       "    </tr>\n",
       "    <tr>\n",
       "      <th>25%</th>\n",
       "      <td>NaN</td>\n",
       "      <td>NaN</td>\n",
       "      <td>2016-07-01 00:00:00</td>\n",
       "      <td>NaN</td>\n",
       "      <td>45.000000</td>\n",
       "      <td>1.000000</td>\n",
       "      <td>NaN</td>\n",
       "      <td>NaN</td>\n",
       "      <td>NaN</td>\n",
       "      <td>NaN</td>\n",
       "      <td>NaN</td>\n",
       "      <td>NaN</td>\n",
       "      <td>2016.000000</td>\n",
       "    </tr>\n",
       "    <tr>\n",
       "      <th>50%</th>\n",
       "      <td>NaN</td>\n",
       "      <td>NaN</td>\n",
       "      <td>2019-04-01 00:00:00</td>\n",
       "      <td>NaN</td>\n",
       "      <td>97.000000</td>\n",
       "      <td>2.000000</td>\n",
       "      <td>NaN</td>\n",
       "      <td>NaN</td>\n",
       "      <td>NaN</td>\n",
       "      <td>NaN</td>\n",
       "      <td>NaN</td>\n",
       "      <td>NaN</td>\n",
       "      <td>2019.000000</td>\n",
       "    </tr>\n",
       "    <tr>\n",
       "      <th>75%</th>\n",
       "      <td>NaN</td>\n",
       "      <td>NaN</td>\n",
       "      <td>2022-01-01 00:00:00</td>\n",
       "      <td>NaN</td>\n",
       "      <td>221.000000</td>\n",
       "      <td>3.000000</td>\n",
       "      <td>NaN</td>\n",
       "      <td>NaN</td>\n",
       "      <td>NaN</td>\n",
       "      <td>NaN</td>\n",
       "      <td>NaN</td>\n",
       "      <td>NaN</td>\n",
       "      <td>2022.000000</td>\n",
       "    </tr>\n",
       "    <tr>\n",
       "      <th>max</th>\n",
       "      <td>NaN</td>\n",
       "      <td>NaN</td>\n",
       "      <td>2024-10-01 00:00:00</td>\n",
       "      <td>NaN</td>\n",
       "      <td>18612.000000</td>\n",
       "      <td>4.000000</td>\n",
       "      <td>NaN</td>\n",
       "      <td>NaN</td>\n",
       "      <td>NaN</td>\n",
       "      <td>NaN</td>\n",
       "      <td>NaN</td>\n",
       "      <td>NaN</td>\n",
       "      <td>2024.000000</td>\n",
       "    </tr>\n",
       "    <tr>\n",
       "      <th>std</th>\n",
       "      <td>NaN</td>\n",
       "      <td>NaN</td>\n",
       "      <td>NaN</td>\n",
       "      <td>NaN</td>\n",
       "      <td>1248.369443</td>\n",
       "      <td>1.120160</td>\n",
       "      <td>NaN</td>\n",
       "      <td>NaN</td>\n",
       "      <td>NaN</td>\n",
       "      <td>NaN</td>\n",
       "      <td>NaN</td>\n",
       "      <td>NaN</td>\n",
       "      <td>3.162590</td>\n",
       "    </tr>\n",
       "  </tbody>\n",
       "</table>\n",
       "</div>"
      ],
      "text/plain": [
       "       YearQuarterId YearGroupId                           Year Quarter  \\\n",
       "count           5060        5060                           5060    5060   \n",
       "unique            44          11                            NaN       4   \n",
       "top          2014-Q4       G2014                            NaN      Q4   \n",
       "freq             115         460                            NaN    1265   \n",
       "mean             NaN         NaN  2019-05-16 13:46:09.011857920     NaN   \n",
       "min              NaN         NaN            2014-01-01 00:00:00     NaN   \n",
       "25%              NaN         NaN            2016-07-01 00:00:00     NaN   \n",
       "50%              NaN         NaN            2019-04-01 00:00:00     NaN   \n",
       "75%              NaN         NaN            2022-01-01 00:00:00     NaN   \n",
       "max              NaN         NaN            2024-10-01 00:00:00     NaN   \n",
       "std              NaN         NaN                            NaN     NaN   \n",
       "\n",
       "         FailureUnit         Zone ZoneCategory Location Capital     Region  \\\n",
       "count    5060.000000  5060.000000         5060     5060    5060       5060   \n",
       "unique           NaN          NaN            4      115     108         15   \n",
       "top              NaN          NaN          Low   Ariège   Paris  Occitanie   \n",
       "freq             NaN          NaN         1291       44     132        616   \n",
       "mean      323.962451     2.484783          NaN      NaN     NaN        NaN   \n",
       "min         0.000000     1.000000          NaN      NaN     NaN        NaN   \n",
       "25%        45.000000     1.000000          NaN      NaN     NaN        NaN   \n",
       "50%        97.000000     2.000000          NaN      NaN     NaN        NaN   \n",
       "75%       221.000000     3.000000          NaN      NaN     NaN        NaN   \n",
       "max     18612.000000     4.000000          NaN      NaN     NaN        NaN   \n",
       "std      1248.369443     1.120160          NaN      NaN     NaN        NaN   \n",
       "\n",
       "        Direction LocationCategory  CalandarYear  \n",
       "count        5060             5060   5060.000000  \n",
       "unique         11                5           NaN  \n",
       "top     SouthEast                D           NaN  \n",
       "freq          836             4180           NaN  \n",
       "mean          NaN              NaN   2018.998024  \n",
       "min           NaN              NaN   2014.000000  \n",
       "25%           NaN              NaN   2016.000000  \n",
       "50%           NaN              NaN   2019.000000  \n",
       "75%           NaN              NaN   2022.000000  \n",
       "max           NaN              NaN   2024.000000  \n",
       "std           NaN              NaN      3.162590  "
      ]
     },
     "execution_count": 140,
     "metadata": {},
     "output_type": "execute_result"
    }
   ],
   "source": [
    "df.describe(include='all')"
   ]
  },
  {
   "cell_type": "code",
   "execution_count": 144,
   "id": "4c6bb70c-5820-4097-ae08-9f8282f803f0",
   "metadata": {},
   "outputs": [
    {
     "data": {
      "text/plain": [
       "44"
      ]
     },
     "execution_count": 144,
     "metadata": {},
     "output_type": "execute_result"
    }
   ],
   "source": [
    "len(df['YearQuarterId'].unique())"
   ]
  },
  {
   "cell_type": "code",
   "execution_count": 146,
   "id": "3f40709d-e54c-4439-8acb-7cd6382246ad",
   "metadata": {},
   "outputs": [
    {
     "data": {
      "text/plain": [
       "YearGroupId\n",
       "G2014    460\n",
       "G2016    460\n",
       "G2020    460\n",
       "G2019    460\n",
       "G2018    460\n",
       "G2017    460\n",
       "G2023    460\n",
       "G2022    460\n",
       "G2021    460\n",
       "G2024    460\n",
       "G2015    460\n",
       "Name: count, dtype: int64"
      ]
     },
     "execution_count": 146,
     "metadata": {},
     "output_type": "execute_result"
    }
   ],
   "source": [
    "df['YearGroupId'].value_counts()"
   ]
  },
  {
   "cell_type": "code",
   "execution_count": 147,
   "id": "9d39d9d3-59d3-46c6-b4df-18c327b849c9",
   "metadata": {},
   "outputs": [
    {
     "data": {
      "text/plain": [
       "ZoneCategory\n",
       "Low         1291\n",
       "Medium      1276\n",
       "VeryHigh    1251\n",
       "High        1242\n",
       "Name: count, dtype: int64"
      ]
     },
     "execution_count": 147,
     "metadata": {},
     "output_type": "execute_result"
    }
   ],
   "source": [
    "df['ZoneCategory'].value_counts()"
   ]
  },
  {
   "cell_type": "code",
   "execution_count": 148,
   "id": "a79371d2-99cc-47b4-9b99-d7c88c848b84",
   "metadata": {},
   "outputs": [
    {
     "data": {
      "text/plain": [
       "Location\n",
       "Ariège              44\n",
       "Val-d'Oise          44\n",
       "Tarn-et-Garonne     44\n",
       "Tarn                44\n",
       "Somme               44\n",
       "                    ..\n",
       "Cantal              44\n",
       "Calvados            44\n",
       "Bouches-du-Rhône    44\n",
       "Bas-Rhin            44\n",
       "Overseas            44\n",
       "Name: count, Length: 115, dtype: int64"
      ]
     },
     "execution_count": 148,
     "metadata": {},
     "output_type": "execute_result"
    }
   ],
   "source": [
    "df['Location'].value_counts()"
   ]
  },
  {
   "cell_type": "code",
   "execution_count": 161,
   "id": "3023bf81-1822-4287-ba90-8097c084162c",
   "metadata": {},
   "outputs": [
    {
     "data": {
      "text/plain": [
       "Capital\n",
       "Paris          132\n",
       "Strasbourg      88\n",
       "Marseille       88\n",
       "Nil             88\n",
       "Toulouse        88\n",
       "              ... \n",
       "Caen            44\n",
       "Rodez           44\n",
       "Carcassonne     44\n",
       "Troyes          44\n",
       "Cayenne         44\n",
       "Name: count, Length: 108, dtype: int64"
      ]
     },
     "execution_count": 161,
     "metadata": {},
     "output_type": "execute_result"
    }
   ],
   "source": [
    "df['Capital'].value_counts()"
   ]
  },
  {
   "cell_type": "code",
   "execution_count": 157,
   "id": "7b1e9aa4-dc97-43f5-aea5-b910568764b5",
   "metadata": {},
   "outputs": [
    {
     "data": {
      "text/plain": [
       "Region\n",
       "Bourgogne-Frenche-Comté      0.008696\n",
       "Corse                        0.026087\n",
       "Bretagne                     0.043478\n",
       "Centre-ValdeLoire            0.052174\n",
       "PaysdelaLoire                0.052174\n",
       "Hauts-de-France              0.052174\n",
       "Normandie                    0.052174\n",
       "Provence-Alpes-Côted'Azur    0.060870\n",
       "Nil                          0.060870\n",
       "Bourgogne-Franche-Comté      0.078261\n",
       "Île-de-France                0.078261\n",
       "GrandEst                     0.095652\n",
       "Auvergne-Rhône-Alpes         0.104348\n",
       "Nouvelle-Aquitaine           0.113043\n",
       "Occitanie                    0.121739\n",
       "Name: proportion, dtype: float64"
      ]
     },
     "execution_count": 157,
     "metadata": {},
     "output_type": "execute_result"
    }
   ],
   "source": [
    "df['Region'].value_counts(normalize=True,ascending=True)"
   ]
  },
  {
   "cell_type": "code",
   "execution_count": 158,
   "id": "889e6bff-74d7-45f2-879f-90a01a2fe782",
   "metadata": {},
   "outputs": [
    {
     "data": {
      "text/plain": [
       "Direction\n",
       "NorthWest       220\n",
       "Central         264\n",
       "West            308\n",
       "Nil             308\n",
       "East            396\n",
       "NorthCentral    396\n",
       "NorthEast       484\n",
       "North           528\n",
       "SouthWest       572\n",
       "South           748\n",
       "SouthEast       836\n",
       "Name: count, dtype: int64"
      ]
     },
     "execution_count": 158,
     "metadata": {},
     "output_type": "execute_result"
    }
   ],
   "source": [
    "df['Direction'].value_counts(ascending=True)"
   ]
  },
  {
   "cell_type": "code",
   "execution_count": 155,
   "id": "d7bfd8f2-053b-4e18-8dc5-d24e5d8304ca",
   "metadata": {},
   "outputs": [
    {
     "data": {
      "text/plain": [
       "LocationCategory\n",
       "D       0.826087\n",
       "R       0.113043\n",
       "C       0.043478\n",
       "OFOT    0.008696\n",
       "O       0.008696\n",
       "Name: proportion, dtype: float64"
      ]
     },
     "execution_count": 155,
     "metadata": {},
     "output_type": "execute_result"
    }
   ],
   "source": [
    "df['LocationCategory'].value_counts(normalize=True)"
   ]
  },
  {
   "cell_type": "code",
   "execution_count": 159,
   "id": "2039c5fb-d0d2-4807-9e1b-9dd8e1fdac7e",
   "metadata": {},
   "outputs": [
    {
     "data": {
      "text/plain": [
       "CalandarYear\n",
       "2014    461\n",
       "2016    460\n",
       "2020    460\n",
       "2019    460\n",
       "2018    460\n",
       "2017    460\n",
       "2023    460\n",
       "2022    460\n",
       "2021    460\n",
       "2015    460\n",
       "2024    459\n",
       "Name: count, dtype: int64"
      ]
     },
     "execution_count": 159,
     "metadata": {},
     "output_type": "execute_result"
    }
   ],
   "source": [
    "df['CalandarYear'].value_counts(dropna=False)"
   ]
  },
  {
   "cell_type": "code",
   "execution_count": 164,
   "id": "95be19d4-c7db-4428-8792-177e29052abe",
   "metadata": {},
   "outputs": [
    {
     "data": {
      "text/plain": [
       "(0.996, 1.6]    1291\n",
       "(1.6, 2.2]      1276\n",
       "(3.4, 4.0]      1251\n",
       "(2.8, 3.4]      1242\n",
       "(2.2, 2.8]         0\n",
       "Name: count, dtype: int64"
      ]
     },
     "execution_count": 164,
     "metadata": {},
     "output_type": "execute_result"
    }
   ],
   "source": [
    "df['Zone'].value_counts(bins=5)"
   ]
  },
  {
   "cell_type": "code",
   "execution_count": 170,
   "id": "9bae8d8b-a862-43de-ac21-efcb385e0956",
   "metadata": {},
   "outputs": [
    {
     "data": {
      "text/plain": [
       "(-18.613, 1861.2]     4968\n",
       "(1861.2, 3722.4]        47\n",
       "(13028.4, 14889.6]      13\n",
       "(14889.6, 16750.8]       9\n",
       "(9306.0, 11167.2]        5\n",
       "(11167.2, 13028.4]       5\n",
       "(5583.6, 7444.8]         4\n",
       "(3722.4, 5583.6]         3\n",
       "(7444.8, 9306.0]         3\n",
       "(16750.8, 18612.0]       3\n",
       "Name: count, dtype: int64"
      ]
     },
     "execution_count": 170,
     "metadata": {},
     "output_type": "execute_result"
    }
   ],
   "source": [
    "df['FailureUnit'].value_counts(bins=10)"
   ]
  },
  {
   "cell_type": "code",
   "execution_count": 171,
   "id": "04f45d4e-f46f-4a4b-a93a-3f769dbc5ac9",
   "metadata": {},
   "outputs": [
    {
     "data": {
      "text/plain": [
       "YearQuarterId       0\n",
       "YearGroupId         0\n",
       "Year                0\n",
       "Quarter             0\n",
       "FailureUnit         0\n",
       "Zone                0\n",
       "ZoneCategory        0\n",
       "Location            0\n",
       "Capital             0\n",
       "Region              0\n",
       "Direction           0\n",
       "LocationCategory    0\n",
       "CalandarYear        0\n",
       "dtype: int64"
      ]
     },
     "execution_count": 171,
     "metadata": {},
     "output_type": "execute_result"
    }
   ],
   "source": [
    "df.isnull().sum()"
   ]
  },
  {
   "cell_type": "code",
   "execution_count": 172,
   "id": "3798bcbf-c59d-42b1-8858-88435ed8a4de",
   "metadata": {},
   "outputs": [
    {
     "data": {
      "text/plain": [
       "<Axes: >"
      ]
     },
     "execution_count": 172,
     "metadata": {},
     "output_type": "execute_result"
    },
    {
     "data": {
      "image/png": "[encoded data removed]",
      "text/plain": [
       "<Figure size 640x480 with 2 Axes>"
      ]
     },
     "metadata": {},
     "output_type": "display_data"
    }
   ],
   "source": [
    "sns.heatmap(df.isnull())"
   ]
  },
  {
   "cell_type": "markdown",
   "id": "9aca2a43-e3b3-4b92-a547-17d7fa556093",
   "metadata": {},
   "source": [
    "Exploratory Analysis"
   ]
  },
  {
   "cell_type": "markdown",
   "id": "3b31fd14-32a6-46b4-979c-8f938e744286",
   "metadata": {},
   "source": [
    "Univariate Analysis (Categorical and Numeric)"
   ]
  },
  {
   "cell_type": "code",
   "execution_count": 183,
   "id": "e99334ec-2233-46b6-8e21-ac40676dde7f",
   "metadata": {},
   "outputs": [
    {
     "data": {
      "text/plain": [
       "<Axes: xlabel='percent', ylabel='Region'>"
      ]
     },
     "execution_count": 183,
     "metadata": {},
     "output_type": "execute_result"
    },
    {
     "data": {
      "image/png": "[encoded data removed]",
      "text/plain": [
       "<Figure size 640x480 with 1 Axes>"
      ]
     },
     "metadata": {},
     "output_type": "display_data"
    }
   ],
   "source": [
    "sns.countplot(df['Region'],stat=\"percent\")"
   ]
  },
  {
   "cell_type": "code",
   "execution_count": null,
   "id": "e26af5f9-1207-44c8-ab14-46a777d352cf",
   "metadata": {},
   "outputs": [],
   "source": []
  },
  {
   "cell_type": "code",
   "execution_count": null,
   "id": "66f0f4ea-a58f-4e9b-9a8e-8f3dc794b7fc",
   "metadata": {},
   "outputs": [],
   "source": []
  },
  {
   "cell_type": "code",
   "execution_count": null,
   "id": "6a1a27a5-65b8-4f2f-becd-727aca62d1e7",
   "metadata": {},
   "outputs": [],
   "source": []
  },
  {
   "cell_type": "code",
   "execution_count": null,
   "id": "93598281-8aba-4f9a-b611-1c3e0121fbf6",
   "metadata": {},
   "outputs": [],
   "source": []
  },
  {
   "cell_type": "code",
   "execution_count": null,
   "id": "7c9d029e-8205-4455-b714-73e38c2e290e",
   "metadata": {},
   "outputs": [],
   "source": []
  },
  {
   "cell_type": "code",
   "execution_count": null,
   "id": "09fdb6c2-73aa-43e2-b339-c55976150e17",
   "metadata": {},
   "outputs": [],
   "source": []
  },
  {
   "cell_type": "code",
   "execution_count": null,
   "id": "fbdf6600-5eff-4e71-8edc-bf967836f7e6",
   "metadata": {},
   "outputs": [],
   "source": []
  },
  {
   "cell_type": "code",
   "execution_count": null,
   "id": "41702322-20cb-458d-9bab-2c29752ec019",
   "metadata": {},
   "outputs": [],
   "source": []
  },
  {
   "cell_type": "code",
   "execution_count": null,
   "id": "9206fa15-6c05-44a0-abe5-f134981ee3d7",
   "metadata": {},
   "outputs": [],
   "source": []
  },
  {
   "cell_type": "code",
   "execution_count": null,
   "id": "5380127f-8628-4566-b707-a0d248da8769",
   "metadata": {},
   "outputs": [],
   "source": []
  },
  {
   "cell_type": "code",
   "execution_count": null,
   "id": "7c7acac3-105c-4e0c-a310-a1c64ff78a36",
   "metadata": {},
   "outputs": [],
   "source": []
  },
  {
   "cell_type": "code",
   "execution_count": null,
   "id": "6fead53f-cd4c-4ab8-8d7a-37680b33aa1e",
   "metadata": {},
   "outputs": [],
   "source": []
  },
  {
   "cell_type": "code",
   "execution_count": null,
   "id": "2d2cd2aa-1b24-4c8d-a7b0-1c85802b2607",
   "metadata": {},
   "outputs": [],
   "source": []
  },
  {
   "cell_type": "code",
   "execution_count": null,
   "id": "014d0c7e-a0aa-4b9b-82cd-6b73ffd3ef65",
   "metadata": {},
   "outputs": [],
   "source": []
  },
  {
   "cell_type": "code",
   "execution_count": null,
   "id": "d3d8920b-c544-4612-945f-5227a0cd2310",
   "metadata": {},
   "outputs": [],
   "source": []
  },
  {
   "cell_type": "code",
   "execution_count": null,
   "id": "2c180513-89e8-4ab3-9059-7826bdaf3983",
   "metadata": {},
   "outputs": [],
   "source": []
  },
  {
   "cell_type": "code",
   "execution_count": null,
   "id": "f103e706-48ff-40ed-a9d7-cd3ee2e6280d",
   "metadata": {},
   "outputs": [],
   "source": []
  },
  {
   "cell_type": "code",
   "execution_count": null,
   "id": "e0dcb9e3-bf67-4c87-aab1-68a2b32f2e2f",
   "metadata": {},
   "outputs": [],
   "source": []
  },
  {
   "cell_type": "code",
   "execution_count": null,
   "id": "4831c88b-2a89-431e-96ea-d3b0d47fd32a",
   "metadata": {},
   "outputs": [],
   "source": []
  },
  {
   "cell_type": "code",
   "execution_count": null,
   "id": "ebabb52f-daaf-423a-be0e-be126a9017f0",
   "metadata": {},
   "outputs": [],
   "source": []
  },
  {
   "cell_type": "code",
   "execution_count": null,
   "id": "5fb4995e-2cb6-4d27-81bf-10f3fe61f84c",
   "metadata": {},
   "outputs": [],
   "source": []
  },
  {
   "cell_type": "code",
   "execution_count": null,
   "id": "6aea1817-5c23-489b-916f-e13dd998faf6",
   "metadata": {},
   "outputs": [],
   "source": []
  },
  {
   "cell_type": "code",
   "execution_count": null,
   "id": "2affb6ea-a975-4fe9-98da-634b768af82d",
   "metadata": {},
   "outputs": [],
   "source": []
  },
  {
   "cell_type": "code",
   "execution_count": null,
   "id": "18ccd368-e0bc-432e-9b3b-54a415f72297",
   "metadata": {},
   "outputs": [],
   "source": []
  },
  {
   "cell_type": "code",
   "execution_count": null,
   "id": "15e4845e-007a-402f-b1f1-586c8c188ec3",
   "metadata": {},
   "outputs": [],
   "source": []
  },
  {
   "cell_type": "code",
   "execution_count": null,
   "id": "7bed75e7-f705-4c22-99e5-5b3c7a6cfe05",
   "metadata": {},
   "outputs": [],
   "source": []
  },
  {
   "cell_type": "code",
   "execution_count": null,
   "id": "4888ad2f-5c7d-469f-94ca-c9c5e09b9f61",
   "metadata": {},
   "outputs": [],
   "source": []
  },
  {
   "cell_type": "code",
   "execution_count": null,
   "id": "14fe53f4-26eb-457e-a116-78b1bbcd411d",
   "metadata": {},
   "outputs": [],
   "source": []
  },
  {
   "cell_type": "code",
   "execution_count": null,
   "id": "22588be7-a8e4-4d98-b154-1c603223d302",
   "metadata": {},
   "outputs": [],
   "source": []
  },
  {
   "cell_type": "code",
   "execution_count": null,
   "id": "067d56e1-9d8f-4ea9-99e5-df054fd3eddf",
   "metadata": {},
   "outputs": [],
   "source": []
  },
  {
   "cell_type": "code",
   "execution_count": null,
   "id": "7324bd8f-09a0-46e2-87a7-89b735c91076",
   "metadata": {},
   "outputs": [],
   "source": []
  },
  {
   "cell_type": "code",
   "execution_count": null,
   "id": "170522a3-df68-45c6-a6b0-446dfab9290b",
   "metadata": {},
   "outputs": [],
   "source": []
  },
  {
   "cell_type": "code",
   "execution_count": null,
   "id": "d05eac63-7d0d-42be-82c2-da65ef626892",
   "metadata": {},
   "outputs": [],
   "source": []
  }
 ],
 "metadata": {
  "kernelspec": {
   "display_name": "Python 3 (ipykernel)",
   "language": "python",
   "name": "python3"
  },
  "language_info": {
   "codemirror_mode": {
    "name": "ipython",
    "version": 3
   },
   "file_extension": ".py",
   "mimetype": "text/x-python",
   "name": "python",
   "nbconvert_exporter": "python",
   "pygments_lexer": "ipython3",
   "version": "3.13.0"
  }
 },
 "nbformat": 4,
 "nbformat_minor": 5
}
